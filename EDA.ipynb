{
 "cells": [
  {
   "cell_type": "markdown",
   "id": "0b676987",
   "metadata": {},
   "source": [
    "# Technical Challenge"
   ]
  },
  {
   "cell_type": "markdown",
   "id": "5080e075",
   "metadata": {},
   "source": [
    "## Libraries"
   ]
  },
  {
   "cell_type": "code",
   "execution_count": 1,
   "id": "deb081ee",
   "metadata": {},
   "outputs": [],
   "source": [
    "import numpy as np\n",
    "import pandas as pd\n",
    "from sklearn.preprocessing import OneHotEncoder\n",
    "enc = OneHotEncoder(handle_unknown='ignore')"
   ]
  },
  {
   "cell_type": "markdown",
   "id": "7f9d5a4e",
   "metadata": {},
   "source": [
    "## Exploratory Data Analysis"
   ]
  },
  {
   "cell_type": "code",
   "execution_count": 2,
   "id": "f6ec6ca4",
   "metadata": {},
   "outputs": [],
   "source": [
    "df = pd.read_csv('./data/measurements.csv', encoding='latin')"
   ]
  },
  {
   "cell_type": "code",
   "execution_count": 3,
   "id": "1ed2685f",
   "metadata": {},
   "outputs": [
    {
     "data": {
      "text/html": [
       "<div>\n",
       "<style scoped>\n",
       "    .dataframe tbody tr th:only-of-type {\n",
       "        vertical-align: middle;\n",
       "    }\n",
       "\n",
       "    .dataframe tbody tr th {\n",
       "        vertical-align: top;\n",
       "    }\n",
       "\n",
       "    .dataframe thead th {\n",
       "        text-align: right;\n",
       "    }\n",
       "</style>\n",
       "<table border=\"1\" class=\"dataframe\">\n",
       "  <thead>\n",
       "    <tr style=\"text-align: right;\">\n",
       "      <th></th>\n",
       "      <th>distance</th>\n",
       "      <th>consume</th>\n",
       "      <th>speed</th>\n",
       "      <th>temp_inside</th>\n",
       "      <th>temp_outside</th>\n",
       "      <th>specials</th>\n",
       "      <th>gas_type</th>\n",
       "      <th>AC</th>\n",
       "      <th>rain</th>\n",
       "      <th>sun</th>\n",
       "      <th>refill liters</th>\n",
       "      <th>refill gas</th>\n",
       "    </tr>\n",
       "  </thead>\n",
       "  <tbody>\n",
       "    <tr>\n",
       "      <th>37</th>\n",
       "      <td>4,9</td>\n",
       "      <td>7,4</td>\n",
       "      <td>26</td>\n",
       "      <td>21,5</td>\n",
       "      <td>6</td>\n",
       "      <td>NaN</td>\n",
       "      <td>E10</td>\n",
       "      <td>0</td>\n",
       "      <td>0</td>\n",
       "      <td>0</td>\n",
       "      <td>NaN</td>\n",
       "      <td>NaN</td>\n",
       "    </tr>\n",
       "  </tbody>\n",
       "</table>\n",
       "</div>"
      ],
      "text/plain": [
       "   distance consume  speed temp_inside  temp_outside specials gas_type  AC  \\\n",
       "37      4,9     7,4     26        21,5             6      NaN      E10   0   \n",
       "\n",
       "    rain  sun refill liters refill gas  \n",
       "37     0    0           NaN        NaN  "
      ]
     },
     "execution_count": 3,
     "metadata": {},
     "output_type": "execute_result"
    }
   ],
   "source": [
    "df.sample()"
   ]
  },
  {
   "cell_type": "code",
   "execution_count": 4,
   "id": "80249dbd",
   "metadata": {},
   "outputs": [
    {
     "data": {
      "text/plain": [
       "(388, 12)"
      ]
     },
     "execution_count": 4,
     "metadata": {},
     "output_type": "execute_result"
    }
   ],
   "source": [
    "df.shape"
   ]
  },
  {
   "cell_type": "code",
   "execution_count": 5,
   "id": "2c51eb9b",
   "metadata": {},
   "outputs": [
    {
     "data": {
      "text/plain": [
       "distance           0\n",
       "consume            0\n",
       "speed              0\n",
       "temp_inside       12\n",
       "temp_outside       0\n",
       "specials         295\n",
       "gas_type           0\n",
       "AC                 0\n",
       "rain               0\n",
       "sun                0\n",
       "refill liters    375\n",
       "refill gas       375\n",
       "dtype: int64"
      ]
     },
     "execution_count": 5,
     "metadata": {},
     "output_type": "execute_result"
    }
   ],
   "source": [
    "df.isna().sum()"
   ]
  },
  {
   "cell_type": "code",
   "execution_count": 6,
   "id": "2bae205d",
   "metadata": {},
   "outputs": [
    {
     "data": {
      "text/plain": [
       "['distance 0.0',\n",
       " 'consume 0.0',\n",
       " 'speed 0.0',\n",
       " 'temp_inside 3.09',\n",
       " 'temp_outside 0.0',\n",
       " 'specials 76.03',\n",
       " 'gas_type 0.0',\n",
       " 'AC 0.0',\n",
       " 'rain 0.0',\n",
       " 'sun 0.0',\n",
       " 'refill liters 96.65',\n",
       " 'refill gas 96.65']"
      ]
     },
     "execution_count": 6,
     "metadata": {},
     "output_type": "execute_result"
    }
   ],
   "source": [
    "missing = [f'{i} {round(df[i].isnull().sum()/df[i].shape[0]*100, 2)}' for i in df]\n",
    "missing"
   ]
  },
  {
   "cell_type": "markdown",
   "id": "a58f0e63",
   "metadata": {},
   "source": [
    "We can see that columns `refill liters` and `refill gas` are almost entirely empty, for which they will be dropped to better fit the predictive model."
   ]
  },
  {
   "cell_type": "code",
   "execution_count": 7,
   "id": "475bdadc",
   "metadata": {},
   "outputs": [],
   "source": [
    "df.drop(columns=['refill liters', 'refill gas'], inplace=True)"
   ]
  },
  {
   "cell_type": "code",
   "execution_count": 8,
   "id": "affc8eb6",
   "metadata": {},
   "outputs": [
    {
     "data": {
      "text/plain": [
       "rain                  32\n",
       "sun                   27\n",
       "AC rain                9\n",
       "ac                     8\n",
       "AC                     6\n",
       "snow                   3\n",
       "sun ac                 3\n",
       "AC snow                1\n",
       "half rain half sun     1\n",
       "AC sun                 1\n",
       "AC Sun                 1\n",
       "ac rain                1\n",
       "Name: specials, dtype: int64"
      ]
     },
     "execution_count": 8,
     "metadata": {},
     "output_type": "execute_result"
    }
   ],
   "source": [
    "df.specials.value_counts()"
   ]
  },
  {
   "cell_type": "markdown",
   "id": "996afeb2",
   "metadata": {},
   "source": [
    "We can see that the column `specials` depicts already gathered data from other columns `AC`, `sun` and `rain`,and is primarily empty, for which it will be dropped to better fit the predictive model"
   ]
  },
  {
   "cell_type": "code",
   "execution_count": 9,
   "id": "1dda72ca",
   "metadata": {
    "scrolled": true
   },
   "outputs": [],
   "source": [
    "df.drop(columns='specials', inplace=True)"
   ]
  },
  {
   "cell_type": "code",
   "execution_count": 10,
   "id": "dd2c4b14",
   "metadata": {},
   "outputs": [
    {
     "data": {
      "text/plain": [
       "SP98    228\n",
       "E10     160\n",
       "Name: gas_type, dtype: int64"
      ]
     },
     "execution_count": 10,
     "metadata": {},
     "output_type": "execute_result"
    }
   ],
   "source": [
    "df.gas_type.value_counts()"
   ]
  },
  {
   "cell_type": "markdown",
   "id": "6d42f6f7",
   "metadata": {},
   "source": [
    "There are only 2 types of combustible in this dataset, Ethanol (E10) and unleaded 98 petrol (SP98)."
   ]
  },
  {
   "cell_type": "markdown",
   "id": "f775eea9",
   "metadata": {},
   "source": [
    "## Visualization"
   ]
  },
  {
   "cell_type": "code",
   "execution_count": 11,
   "id": "e816d6c0",
   "metadata": {},
   "outputs": [],
   "source": [
    "#Some configuration for matplotlib and seaborn to look pretty\n",
    "import matplotlib.pyplot as plt\n",
    "import seaborn as sns\n",
    "%matplotlib inline\n",
    "%config Inlinebackend.figure_format= 'retina'\n",
    "sns.set_context(\"poster\")\n",
    "sns.set(rc={\"figure.figsize\": (18.,9.)})\n",
    "sns.set_style(\"whitegrid\")\n",
    "SMALL_SIZE = 18\n",
    "MEDIUM_SIZE = 20\n",
    "BIGGER_SIZE = 30\n",
    "plt.rc('font', size=SMALL_SIZE)          # controls default text sizes\n",
    "plt.rc('axes', titlesize=MEDIUM_SIZE)     # fontsize of the axes title\n",
    "plt.rc('axes', labelsize=SMALL_SIZE)    # fontsize of the x and y labels\n",
    "plt.rc('xtick', labelsize=SMALL_SIZE)    # fontsize of the tick labels\n",
    "plt.rc('ytick', labelsize=SMALL_SIZE)    # fontsize of the tick labels\n",
    "plt.rc('legend', fontsize=SMALL_SIZE)    # legend fontsize\n",
    "plt.rc('figure', titlesize=BIGGER_SIZE)  # fontsize of the figure title"
   ]
  },
  {
   "cell_type": "code",
   "execution_count": 12,
   "id": "4c62795a",
   "metadata": {},
   "outputs": [],
   "source": [
    "df.distance = df.distance.apply(lambda x : x.replace(\",\", \".\")).astype(float)\n",
    "df.consume = df.consume.apply(lambda x : x.replace(\",\", \".\")).astype(float)\n",
    "df.temp_inside = df.temp_inside.apply(lambda x : x.replace(\",\", \".\") if type(x)!=float else x).astype(float)"
   ]
  },
  {
   "cell_type": "code",
   "execution_count": 13,
   "id": "95297399",
   "metadata": {},
   "outputs": [
    {
     "data": {
      "text/plain": [
       "Index(['distance', 'consume', 'speed', 'temp_inside', 'temp_outside',\n",
       "       'gas_type', 'AC', 'rain', 'sun'],\n",
       "      dtype='object')"
      ]
     },
     "execution_count": 13,
     "metadata": {},
     "output_type": "execute_result"
    }
   ],
   "source": [
    "df.columns"
   ]
  },
  {
   "cell_type": "markdown",
   "id": "e4d784c2",
   "metadata": {},
   "source": [
    "We need to change the cathegorical values of `gas_type` to numeric."
   ]
  },
  {
   "cell_type": "code",
   "execution_count": 14,
   "id": "6923f958",
   "metadata": {},
   "outputs": [],
   "source": [
    "# passing bridge-types-cat column (label encoded values of bridge_types)\n",
    "enc_df = pd.DataFrame(enc.fit_transform(df[['gas_type']]).toarray())\n",
    "# merge with main df on key values\n",
    "df = df.join(enc_df)\n",
    "df.rename(columns={0: 'E10', 1: 'SP98'}, inplace=True)"
   ]
  },
  {
   "cell_type": "code",
   "execution_count": 15,
   "id": "493804b9",
   "metadata": {
    "scrolled": false
   },
   "outputs": [
    {
     "data": {
      "text/plain": [
       "<AxesSubplot:title={'center':'Correlation Heatmap'}>"
      ]
     },
     "execution_count": 15,
     "metadata": {},
     "output_type": "execute_result"
    },
    {
     "data": {
      "image/png": "[encoded data removed]",
      "text/plain": [
       "<Figure size 1296x648 with 2 Axes>"
      ]
     },
     "metadata": {},
     "output_type": "display_data"
    }
   ],
   "source": [
    "#Finding correlations within the df\n",
    "\n",
    "#Set the variables\n",
    "corrmat = df.corr()       \n",
    "mask = np.triu(np.ones_like(corrmat, dtype=bool)) \n",
    "top_corr_features = corrmat.index\n",
    "plt.title(\"Correlation Heatmap\")\n",
    "\n",
    "#Plot the heatmap\n",
    "sns.heatmap(corrmat,  \n",
    "            mask = mask,\n",
    "            cmap='RdYlGn',\n",
    "            square=True, \n",
    "            linewidth=0.5, \n",
    "            annot = True,\n",
    "            vmax=1,\n",
    "            vmin=-1,\n",
    "            cbar_kws={\"shrink\": .5})"
   ]
  },
  {
   "cell_type": "markdown",
   "id": "667336c4",
   "metadata": {},
   "source": [
    "We can see that the corrrelation between consume and the gastype is not so obvious so we have to analyze the "
   ]
  },
  {
   "cell_type": "markdown",
   "id": "54403f44",
   "metadata": {},
   "source": [
    "## Conclusion"
   ]
  },
  {
   "cell_type": "code",
   "execution_count": 16,
   "id": "b413b752",
   "metadata": {},
   "outputs": [],
   "source": [
    "df.drop(columns=['E10','SP98'], inplace=True)"
   ]
  },
  {
   "cell_type": "code",
   "execution_count": 17,
   "id": "132ea343",
   "metadata": {
    "scrolled": false
   },
   "outputs": [
    {
     "data": {
      "text/html": [
       "<div>\n",
       "<style scoped>\n",
       "    .dataframe tbody tr th:only-of-type {\n",
       "        vertical-align: middle;\n",
       "    }\n",
       "\n",
       "    .dataframe tbody tr th {\n",
       "        vertical-align: top;\n",
       "    }\n",
       "\n",
       "    .dataframe thead th {\n",
       "        text-align: right;\n",
       "    }\n",
       "</style>\n",
       "<table border=\"1\" class=\"dataframe\">\n",
       "  <thead>\n",
       "    <tr style=\"text-align: right;\">\n",
       "      <th></th>\n",
       "      <th>distance</th>\n",
       "      <th>consume</th>\n",
       "      <th>speed</th>\n",
       "      <th>temp_inside</th>\n",
       "      <th>temp_outside</th>\n",
       "      <th>gas_type</th>\n",
       "      <th>AC</th>\n",
       "      <th>rain</th>\n",
       "      <th>sun</th>\n",
       "    </tr>\n",
       "  </thead>\n",
       "  <tbody>\n",
       "    <tr>\n",
       "      <th>224</th>\n",
       "      <td>12.9</td>\n",
       "      <td>5.1</td>\n",
       "      <td>34</td>\n",
       "      <td>22.5</td>\n",
       "      <td>8</td>\n",
       "      <td>SP98</td>\n",
       "      <td>0</td>\n",
       "      <td>1</td>\n",
       "      <td>0</td>\n",
       "    </tr>\n",
       "  </tbody>\n",
       "</table>\n",
       "</div>"
      ],
      "text/plain": [
       "     distance  consume  speed  temp_inside  temp_outside gas_type  AC  rain  \\\n",
       "224      12.9      5.1     34         22.5             8     SP98   0     1   \n",
       "\n",
       "     sun  \n",
       "224    0  "
      ]
     },
     "execution_count": 17,
     "metadata": {},
     "output_type": "execute_result"
    }
   ],
   "source": [
    "df.sample()"
   ]
  },
  {
   "cell_type": "code",
   "execution_count": 18,
   "id": "7d3a987d",
   "metadata": {},
   "outputs": [],
   "source": [
    "df['price'] = np.where(df.gas_type=='E10', 1.38, 1.46)"
   ]
  },
  {
   "cell_type": "code",
   "execution_count": 19,
   "id": "4d3c14e3",
   "metadata": {},
   "outputs": [],
   "source": [
    "df = df.assign(trip_price=df.distance*df.consume*df.price/100)"
   ]
  },
  {
   "cell_type": "code",
   "execution_count": 21,
   "id": "8cbc92c8",
   "metadata": {
    "scrolled": true
   },
   "outputs": [
    {
     "data": {
      "text/html": [
       "<div>\n",
       "<style scoped>\n",
       "    .dataframe tbody tr th:only-of-type {\n",
       "        vertical-align: middle;\n",
       "    }\n",
       "\n",
       "    .dataframe tbody tr th {\n",
       "        vertical-align: top;\n",
       "    }\n",
       "\n",
       "    .dataframe thead th {\n",
       "        text-align: right;\n",
       "    }\n",
       "</style>\n",
       "<table border=\"1\" class=\"dataframe\">\n",
       "  <thead>\n",
       "    <tr style=\"text-align: right;\">\n",
       "      <th></th>\n",
       "      <th>distance</th>\n",
       "      <th>consume</th>\n",
       "      <th>speed</th>\n",
       "      <th>temp_inside</th>\n",
       "      <th>temp_outside</th>\n",
       "      <th>AC</th>\n",
       "      <th>rain</th>\n",
       "      <th>sun</th>\n",
       "      <th>price</th>\n",
       "      <th>trip_price</th>\n",
       "    </tr>\n",
       "    <tr>\n",
       "      <th>gas_type</th>\n",
       "      <th></th>\n",
       "      <th></th>\n",
       "      <th></th>\n",
       "      <th></th>\n",
       "      <th></th>\n",
       "      <th></th>\n",
       "      <th></th>\n",
       "      <th></th>\n",
       "      <th></th>\n",
       "      <th></th>\n",
       "    </tr>\n",
       "  </thead>\n",
       "  <tbody>\n",
       "    <tr>\n",
       "      <th>E10</th>\n",
       "      <td>21.096250</td>\n",
       "      <td>4.931250</td>\n",
       "      <td>43.506250</td>\n",
       "      <td>21.917197</td>\n",
       "      <td>10.11875</td>\n",
       "      <td>0.043750</td>\n",
       "      <td>0.100000</td>\n",
       "      <td>0.075000</td>\n",
       "      <td>1.38</td>\n",
       "      <td>1.392327</td>\n",
       "    </tr>\n",
       "    <tr>\n",
       "      <th>SP98</th>\n",
       "      <td>18.639912</td>\n",
       "      <td>4.899123</td>\n",
       "      <td>40.820175</td>\n",
       "      <td>21.938356</td>\n",
       "      <td>12.22807</td>\n",
       "      <td>0.100877</td>\n",
       "      <td>0.140351</td>\n",
       "      <td>0.087719</td>\n",
       "      <td>1.46</td>\n",
       "      <td>1.290083</td>\n",
       "    </tr>\n",
       "  </tbody>\n",
       "</table>\n",
       "</div>"
      ],
      "text/plain": [
       "           distance   consume      speed  temp_inside  temp_outside        AC  \\\n",
       "gas_type                                                                        \n",
       "E10       21.096250  4.931250  43.506250    21.917197      10.11875  0.043750   \n",
       "SP98      18.639912  4.899123  40.820175    21.938356      12.22807  0.100877   \n",
       "\n",
       "              rain       sun  price  trip_price  \n",
       "gas_type                                         \n",
       "E10       0.100000  0.075000   1.38    1.392327  \n",
       "SP98      0.140351  0.087719   1.46    1.290083  "
      ]
     },
     "execution_count": 21,
     "metadata": {},
     "output_type": "execute_result"
    }
   ],
   "source": [
    "df.groupby('gas_type').mean()"
   ]
  },
  {
   "cell_type": "markdown",
   "id": "55437e7d",
   "metadata": {},
   "source": [
    "The SP98 continues to be a better option as the price per trip is lower than E10. This can be furthered explored through a deep graphical analysis"
   ]
  }
 ],
 "metadata": {
  "kernelspec": {
   "display_name": "Python 3 (ipykernel)",
   "language": "python",
   "name": "python3"
  },
  "language_info": {
   "codemirror_mode": {
    "name": "ipython",
    "version": 3
   },
   "file_extension": ".py",
   "mimetype": "text/x-python",
   "name": "python",
   "nbconvert_exporter": "python",
   "pygments_lexer": "ipython3",
   "version": "3.9.13"
  }
 },
 "nbformat": 4,
 "nbformat_minor": 5
}
